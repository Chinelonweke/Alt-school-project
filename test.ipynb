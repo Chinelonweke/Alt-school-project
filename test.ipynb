{
 "cells": [
  {
   "cell_type": "markdown",
   "metadata": {},
   "source": [
    "# Test Expense code"
   ]
  },
  {
   "cell_type": "code",
   "execution_count": null,
   "metadata": {},
   "outputs": [],
   "source": [
    "import uuid\n",
    "from datetime import datetime\n",
    "\n",
    "class Expense:\n",
    "    def __init__(self, title: str, amount: float):\n",
    "        \"\"\"Initializes a new Expense instance with a unique ID and timestamps.\"\"\"\n",
    "        self.id = str(uuid.uuid4()) \n",
    "        self.title = title\n",
    "        self.amount = amount\n",
    "        self.created_at = datetime.utcnow()  # Store creation timestamp\n",
    "        self.updated_at = self.created_at  # Initially, updated_at = created_at\n",
    "\n",
    "    def update(self, title: str = None, amount: float = None):\n",
    "        \"\"\"Updates the title and/or amount and refreshes the updated_at timestamp.\"\"\"\n",
    "        if title:\n",
    "            self.title = title\n",
    "        if amount:\n",
    "            self.amount = amount\n",
    "        self.updated_at = datetime.utcnow()  # Update timestamp\n",
    "\n",
    "    def to_dict(self):\n",
    "        \"\"\"Returns a dictionary representation of the expense with currency format.\"\"\"\n",
    "        return {\n",
    "            \"id\": self.id,\n",
    "            \"title\": self.title,\n",
    "            \"amount\": f\"${self.amount:.2f}\",  \n",
    "            \"created_at\": self.created_at.isoformat(),\n",
    "            \"updated_at\": self.updated_at.isoformat(),\n",
    "        }\n",
    "\n",
    "\n",
    "    @staticmethod\n",
    "    def validate_title(title):\n",
    "        \"\"\"Validates that the title is a non-empty string.\"\"\"\n",
    "        if not isinstance(title, str) or not title.strip():\n",
    "            raise ValueError(\"Title must be a non-empty string.\")\n",
    "        return title.strip()\n",
    "\n",
    "    @staticmethod\n",
    "    def validate_amount(amount):\n",
    "        \"\"\"Validates that the amount is a positive float.\"\"\"\n",
    "        if not isinstance(amount, (int, float)) or amount < 0:\n",
    "            raise ValueError(\"Amount must be a positive number.\")\n",
    "        return float(amount)\n"
   ]
  },
  {
   "cell_type": "markdown",
   "metadata": {},
   "source": [
    "# Test ExpenseDatabase code"
   ]
  },
  {
   "cell_type": "code",
   "execution_count": 2,
   "metadata": {},
   "outputs": [],
   "source": [
    "from Expense import Expense  # Import the Expense class\n",
    "\n",
    "class ExpenseDB:\n",
    "    \"\"\"Manages a collection of Expense objects.\"\"\"\n",
    "\n",
    "    def __init__(self):\n",
    "        \"\"\"Initializes an empty list of expenses.\"\"\"\n",
    "        self.expenses = []\n",
    "\n",
    "    def add_expense(self, expense: Expense):\n",
    "        \"\"\"Adds an expense to the database.\"\"\"\n",
    "        if not isinstance(expense, Expense):\n",
    "            raise TypeError(\"Only Expense objects can be added.\")\n",
    "        self.expenses.append(expense)\n",
    "\n",
    "    def remove_expense(self, expense_id: str):\n",
    "        \"\"\"Removes an expense by its unique ID.\"\"\"\n",
    "        self.expenses = [expense for expense in self.expenses if expense.id != expense_id]\n",
    "\n",
    "    def get_expense_by_id(self, expense_id: str):\n",
    "        \"\"\"Retrieves an expense by ID.\"\"\"\n",
    "        for expense in self.expenses:\n",
    "            if expense.id == expense_id:\n",
    "                return expense\n",
    "        return None  # Return None if not found\n",
    "\n",
    "    def get_expense_by_title(self, title: str):\n",
    "        \"\"\"Retrieves all expenses with a given title.\"\"\"\n",
    "        return [expense for expense in self.expenses if expense.title.lower() == title.lower()]\n",
    "\n",
    "    def to_dict(self):\n",
    "        \"\"\"Returns a list of dictionaries representing expenses.\"\"\"\n",
    "        return [expense.to_dict() for expense in self.expenses]\n",
    "\n",
    "\n"
   ]
  },
  {
   "cell_type": "markdown",
   "metadata": {},
   "source": [
    "# Main.py"
   ]
  },
  {
   "cell_type": "code",
   "execution_count": 3,
   "metadata": {},
   "outputs": [
    {
     "name": "stdout",
     "output_type": "stream",
     "text": [
      "All Expenses:\n",
      "{'id': '0a38654a-3516-4abf-b6fd-d6be85ba4c23', 'title': 'Groceries', 'amount': '$50.25', 'created_at': '2025-02-23T21:28:26.411115', 'updated_at': '2025-02-23T21:28:26.411115'}\n",
      "{'id': 'dffe75c6-a98a-43c2-bdf2-01d27a8b0ef6', 'title': 'Electricity Bill', 'amount': '$120.75', 'created_at': '2025-02-23T21:28:26.411115', 'updated_at': '2025-02-23T21:28:26.411115'}\n",
      "{'id': '40fc1dda-cf6f-43f8-a672-2ac8c44f9e2d', 'title': 'Internet', 'amount': '$45.99', 'created_at': '2025-02-23T21:28:26.411115', 'updated_at': '2025-02-23T21:28:26.411115'}\n",
      "{'id': '9f229e3a-6346-4a3e-aa5a-4897624b8048', 'title': 'Fuel', 'amount': '$30.00', 'created_at': '2025-02-23T21:28:26.411115', 'updated_at': '2025-02-23T21:28:26.411115'}\n",
      "{'id': '0c5e944a-cfd5-4167-9f72-90f03f01de69', 'title': 'Rent', 'amount': '$100.00', 'created_at': '2025-02-23T21:28:26.411115', 'updated_at': '2025-02-23T21:28:26.411115'}\n",
      "\n",
      "Searching for 'Internet' expense:\n",
      "[<Expense.Expense object at 0x0000026FF5778E50>]\n",
      "\n",
      "Searching for expense with ID: dffe75c6-a98a-43c2-bdf2-01d27a8b0ef6\n",
      "<Expense.Expense object at 0x0000026FF55F8410>\n",
      "\n",
      "Removing 'Fuel' expense...\n",
      "\n",
      "Updated Expense List:\n",
      "{'id': '0a38654a-3516-4abf-b6fd-d6be85ba4c23', 'title': 'Groceries', 'amount': '$50.25', 'created_at': '2025-02-23T21:28:26.411115', 'updated_at': '2025-02-23T21:28:26.411115'}\n",
      "{'id': 'dffe75c6-a98a-43c2-bdf2-01d27a8b0ef6', 'title': 'Electricity Bill', 'amount': '$120.75', 'created_at': '2025-02-23T21:28:26.411115', 'updated_at': '2025-02-23T21:28:26.411115'}\n",
      "{'id': '40fc1dda-cf6f-43f8-a672-2ac8c44f9e2d', 'title': 'Internet', 'amount': '$45.99', 'created_at': '2025-02-23T21:28:26.411115', 'updated_at': '2025-02-23T21:28:26.411115'}\n",
      "{'id': '0c5e944a-cfd5-4167-9f72-90f03f01de69', 'title': 'Rent', 'amount': '$100.00', 'created_at': '2025-02-23T21:28:26.411115', 'updated_at': '2025-02-23T21:28:26.411115'}\n"
     ]
    }
   ],
   "source": [
    "from Expense import Expense\n",
    "from ExpenseDatabase import ExpenseDB\n",
    "\n",
    "# Create ExpenseDB instance\n",
    "db = ExpenseDB()\n",
    "\n",
    "# Create expenses\n",
    "expense1 = Expense(\"Groceries\", 50.25)\n",
    "expense2 = Expense(\"Electricity Bill\", 120.75)\n",
    "expense3 = Expense(\"Internet\", 45.99)\n",
    "expense4 = Expense(\"Fuel\", 30.00)\n",
    "expense5 = Expense(\"Rent\", 100.00)\n",
    "\n",
    "# Add expenses to database\n",
    "db.add_expense(expense1)\n",
    "db.add_expense(expense2)\n",
    "db.add_expense(expense3)\n",
    "db.add_expense(expense4)\n",
    "db.add_expense(expense5)\n",
    "\n",
    "# Display expenses\n",
    "print(\"All Expenses:\")\n",
    "for exp in db.to_dict():\n",
    "    print(exp)\n",
    "\n",
    "# Search by title\n",
    "print(\"\\nSearching for 'Internet' expense:\")\n",
    "print(db.get_expense_by_title(\"Internet\"))\n",
    "\n",
    "# Search by ID\n",
    "expense_id = expense2.id\n",
    "print(f\"\\nSearching for expense with ID: {expense_id}\")\n",
    "print(db.get_expense_by_id(expense_id))\n",
    "\n",
    "# Remove an expense\n",
    "print(\"\\nRemoving 'Fuel' expense...\")\n",
    "db.remove_expense(expense4.id)\n",
    "\n",
    "# Display updated expenses\n",
    "print(\"\\nUpdated Expense List:\")\n",
    "for exp in db.to_dict():\n",
    "    print(exp)\n"
   ]
  }
 ],
 "metadata": {
  "kernelspec": {
   "display_name": "base",
   "language": "python",
   "name": "python3"
  },
  "language_info": {
   "codemirror_mode": {
    "name": "ipython",
    "version": 3
   },
   "file_extension": ".py",
   "mimetype": "text/x-python",
   "name": "python",
   "nbconvert_exporter": "python",
   "pygments_lexer": "ipython3",
   "version": "3.11.5"
  }
 },
 "nbformat": 4,
 "nbformat_minor": 2
}
